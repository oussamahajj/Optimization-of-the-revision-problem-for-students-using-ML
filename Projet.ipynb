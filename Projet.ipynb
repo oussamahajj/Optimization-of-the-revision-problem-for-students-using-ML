{
  "nbformat": 4,
  "nbformat_minor": 0,
  "metadata": {
    "colab": {
      "provenance": []
    },
    "kernelspec": {
      "name": "python3",
      "display_name": "Python 3"
    },
    "language_info": {
      "name": "python"
    }
  },
  "cells": [
    {
      "cell_type": "markdown",
      "source": [
        "# -- coding: utf-8 --\n",
        "\n",
        "\n",
        "##Titre du projet : Prédiction de notes d'élèves selon le temps des révision\n",
        "\n",
        "### Membres du projet:\n",
        "  1. Ayyoub Benrguig   : Étude Théorique\n",
        "  2. Asmae El Youbi    : Les algorithme\n",
        "  3. Oussama Hajji     : Les algorithme\n",
        "  4. Hayat Bouchlaghmi : Étude Théorique\n",
        "  5. Walid Hirouche    : Les algorithmes\n",
        "\n",
        "### Présentation de la problématique / Description du phénomène modélisé ...\n",
        "\n",
        "On a travaillé sur un projet d'optimisation qui visait à étudier la relation entre le **temps investi dans les révisions de cours** et le **niveau de réussite** des étudiants. Au début, nous avons eu des difficultés à modéliser correctement le problème avec une fonction objectif convenable qui respecte toutes les **contraintes** de l'étude. Cependant, nous avons eu l'idée d'utiliser une base de données récupérée du site [Kaggle](https://www.kaggle.com/code/glsmceylan/student-marks-prediction). Cette base de données contenait des informations sur le **temps de révisions** par un élève et sa **note sur 100** (*système américain*). Après la visualisation des données sur un graphique qui affiche la note obtenue par chaque étudiant en fonction du temps de révisions, nous avons eu l'idée d'approximer cette distribution avec une fonction quadratique (*celle qui est la plus adaptée pour la situation*), cela revient à minimiser la distance entre la fonction quatdratique et l'ensemble des points illustrant les données. Notre objectif était donc de réaliser une **régression quadratique** des points des notes en fonction des **heures passées à étudier**, afin de trouver une **fonction quadratique** la plus proche de la distribution des points. Cette fonction nous permettrait de prédire la note d'un étudiant.\n",
        "\n",
        "\n",
        "### Formulation mathématique sous forme d'un problème d'optimisation bien posé:\n",
        "\n",
        "\n",
        "\n",
        "Le problème s'écrit:\n",
        "$$\n",
        "\\inf _{X \\in \\mathbb{R}^3} J(X) \\quad \\text { avec  } X=\\left(\\begin{array}{l}\n",
        "a \\\\\n",
        "b \\\\\n",
        "c\n",
        "\\end{array}\\right) \\quad \\text { et } \\quad J(X)=\\sum_{i=1}^N\\left(x_i-a t_i^2-b t_i-c\\right)^2 .\n",
        "$$\n",
        "Écrivons $J(X)=\\|M X-k\\|^2$ avec $M=\\left(\\begin{array}{ccc}t_1^2 & t_1 & 1 \\\\ \\vdots & \\vdots & \\vdots \\\\ t_N^2 & t_N & 1\\end{array}\\right)$ et $k=\\left(\\begin{array}{c}x_1 \\\\ \\vdots \\\\ x_N\\end{array}\\right)$.\n",
        "\\\n",
        "On peut  écrire ce problème comme un problème de minimisation quadratique, c'est-à-dire un problème de la forme:\n",
        "$$\n",
        "\\inf _{X \\in \\mathbb{R}^n} J(X) \\text { avec } J(X)=\\frac{1}{2}\\langle A X, X\\rangle-\\langle b, X\\rangle +r,\n",
        "$$\n",
        "avec $A \\in \\mathcal{S}_n(\\mathbb{R}), b \\in \\mathbb{R}^n$.\\\\\n",
        "\n",
        "\\\n",
        " D'après le cours sur la méthode des moindres carrés, on a\n",
        "$$\n",
        "J(X)=\\frac{1}{2}\\langle A X, X\\rangle-\\langle b, X\\rangle +r\n",
        "$$\n",
        "avec $n=3, A=2\\cdot M^{\\top} M \\in \\mathcal{S}_3(\\mathbb{R})$ , $b=2\\cdot M^{\\top} k \\in \\mathbb{R}^3$ et $r=\\langle k, k\\rangle$. On calcule $A=\\left(\\begin{array}{lll}S_4 & S_3 & S_2 \\\\ S_3 & S_2 & S_1 \\\\ S_2 & S_1 & N\\end{array}\\right)$.\n",
        "\\\n",
        "Avec :\n",
        "\\\n",
        " $S_k=2 \\sum_{i=1}^N t_i^k$\n",
        "\n",
        "\n",
        "\n",
        "### Analyse mathématique du problème d'optimisation:\n",
        "#### 1. Existence et unicité :\n",
        "\n",
        "la fonction objectif est une fonction quadratique, donc il suffit maintenant de démontrer que la matrice symétrique A  est définie  positive .\n",
        "\\\n",
        "On a:\n",
        "\\\n",
        "$A=\\left(\\begin{array}{lll}S_4 & S_3 & S_2 \\\\ S_3 & S_2 & S_1 \\\\ S_2 & S_1 & N\\end{array}\\right)$.\n",
        "\n",
        "\n",
        "\\\n",
        "En utilisant les valeurs propres de $A$, nous pouvons déterminer si elle est définie positive.\n",
        "\\\n",
        "Les valeurs propres de la matrice $A$ sont:\n",
        "\\\n",
        " $\\lambda_1 = 181244$, $\\lambda_2 = 343.316$, et $\\lambda_3 = 19.1575$.\n",
        "\n",
        "Puisqu'elles sont toutes réelles et positives, cela signifie que la matrice $A$ est définie positive.\n",
        "\\\n",
        "\n",
        "Comme la Hessienne $HJ(X) = A$ est symétrique et définie positive. Par conséquent, $J(X)$ est strictement convexe. Cela implique que $J(X)$ possède au plus un minimum dans $\\mathbb{R}^N$.\n",
        "\\\n",
        "\n",
        "\n",
        "En conclusion, nous pouvons affirmer l'existence et l'unicité du minimum du problème d'optimisation.\n",
        "\n",
        "#### 2. Caractértisation du miunimum (condition d'optimalité)\n",
        "\n",
        "\\\\\n",
        "Pour caractériser le minimum de la fonction $J(X)$, On a utilisé les conditions d'optimalité. Dans le cas des problèmes d'optimisation quadratique, le minimum est atteint lorsque le gradient de la fonction objectif est nul.\n",
        "\n",
        "Le gradient de $J(X)$ par rapport à $X$ est donné par:\n",
        "\\\n",
        " $\\nabla J(X) = AX - b$, où $b = 2 \\cdot M^{\\top} k$ .\n",
        "\\\n",
        "Donc, pour trouver le minimum de $J(X')$, nous devons résoudre l'équation $\\nabla J(X') = 0$.\n",
        "\n",
        "Cela nous donne l'équation $AX' = b$, où $A$ est la matrice $2 \\cdot M^{\\top} M$ et $b$ est le vecteur $2 \\cdot M^{\\top} k$  qui  appartient  nécessairement à l'image de matrice A.\n",
        "\\\n",
        "D'ou:\n",
        "\n",
        "$X'=A^{-1}b$\n",
        "\n",
        "théoriquement on trouve que :\n",
        "\n",
        "$\\mathbf{X}' = \\begin{bmatrix}\n",
        "0.71960577 \\\\\n",
        "-0.13719255 \\\\\n",
        "9.00360502 \\\\\n",
        "\\end{bmatrix}\n",
        "$\n",
        "\n",
        "Cela nous donne l'équation $AX' = b$, où $A$ est la matrice $2 \\cdot M^{\\top} M$ et $b$ est le vecteur $2 \\cdot M^{\\top} k$  qui  appartient  nécessairement à l'image de matrice A.\n",
        "\n",
        "\n",
        "#### 3. Selection d'un algorithme de résolution ( justifiez votre choix)\n",
        "\n",
        "\n",
        "  Pour résoudre le problème d'optimisation $\\inf_{X \\in \\mathbb{R}^3} J(X)$, nous pouvons utiliser l'algorithme du gradient descent (descendant de gradient).\n",
        "\n",
        "Le choix de l'algorithme de la déscente du gradient est justifié par les caractéristiques du problème et les propriétés de la fonction objectif $J(X)$ :\n",
        "\n",
        "1. La fonction objectif $J(X)$ est différentiable, ce qui permet de calculer efficacement le gradient $\\nabla J(X)$. L'algorithme du gradient descent nécessite le calcul du gradient pour mettre à jour itérativement la solution.\n",
        "\n",
        "2. L'algorithme du gradient descent est particulièrement adapté pour les problèmes d'optimisation où la fonction objectif est convexe ou présente des propriétés similaires. Dans notre cas, la fonction $J(X)$ est une fonction quadratique, qui est convexe.\n",
        "\n",
        "\n",
        "3. Bien que l'algorithme du gradient descent ne garantisse pas la convergence vers le minimum global, il converge généralement vers un minimum local dans le cas de fonctions convexes. Dans le contexte de notre problème, la fonction objectif $J(X)$ est strictement convexe, ce qui implique l'existence d'un unique minimum global.\n",
        "\n",
        "\n",
        "#### 4.Étude théorique de la vitesse de convergence de l'algorithme de descente de gradient\n",
        "\n",
        "L'algorithme de descente de gradient est un algorithme itératif qui vise à minimiser une fonction objectif en ajustant itérativement les paramètres de la solution. Dans notre problème, l'objectif est de trouver le minimum de la fonction $J(X)$ définie comme suit :\n",
        "\\\n",
        "$\n",
        "J(X) = \\frac{1}{2}\\langle AX, X \\rangle - \\langle b, X \\rangle + c\n",
        "$\n",
        "\\\n",
        "où $X$ est un vecteur de dimension 3, $A$ est une matrice symétrique définie positive de taille $3 \\times 3$, $b$ est un vecteur de taille 3 et $c$ est une constante.\n",
        "\n",
        "La vitesse de convergence de l'algorithme de descente de gradient dépend de plusieurs facteurs, notamment la condition de Lipschitz de la fonction objectif et le choix du pas d'apprentissage **learning rate**.\n",
        "\n",
        "**Condition de Lipschitz de la fonction objectif:**\n",
        "\n",
        "La condition de Lipschitz est une propriété de régularité de la fonction objectif. Une fonction est dite Lipschitzienne si elle vérifie :\n",
        "\\\n",
        "$\n",
        "\\| \\nabla J(X) - \\nabla J(Y) \\| \\leq L \\|X - Y\\|\n",
        "$\n",
        "\\\n",
        "où :  $\\nabla J(X)$ et $\\nabla J(Y)$ sont les gradients de la fonction objectif évalués en $X$ et $Y$ respectivement, $\\| \\cdot \\|$ est la norme euclidienne et $L$ est une constante de Lipschitz.\n",
        "\n",
        "Dans notre cas, en calculant le gradient de $J(X)$ par rapport à $X$, nous obtenons :\n",
        "$\n",
        "\\nabla J(X) = AX - b\n",
        "$\n",
        "\n",
        "Pour évaluer la condition de Lipschitz, il faudrait déterminer la constante de Lipschitz $L$. Cela peut être fait en calculant la norme spectrale de la matrice $A$ ou en utilisant d'autres techniques d'analyse.\n",
        "\n",
        " **Choix du pas d'apprentissage**\n",
        "\n",
        "Le choix du pas d'apprentissage, noté $\\alpha$, est crucial pour la vitesse de convergence de l'algorithme. Un pas d'apprentissage trop grand peut entraîner des oscillations ou une divergence de l'algorithme, tandis qu'un pas d'apprentissage trop petit peut conduire à une convergence lente.\n",
        "\n",
        "Dans notre cas, l'algorithme de descente de gradient met à jour les paramètres de la solution $X$ à chaque itération selon la règle suivante :\n",
        "\n",
        "$\n",
        "X^{(k+1)} = X^{(k)} - \\alpha \\nabla J(X^{(k)})\n",
        "$\n",
        "\n",
        "où $X^{(k)}$ représente la valeur des paramètres à l'itération $k$.\n",
        "\n",
        "\n",
        "\n",
        "### Implémentation et simulations numériques\n",
        "\n",
        "\n",
        "\n",
        "1. Programmation de l'algorithme avec des tests de validation\n",
        "2. Programmation fonctionnelle (CVXOP ou scipy.minimize)\n",
        "3. Comparaison des resultats des deux algorithmes : précision et vitesse de convergence /nombre d'iterations\n",
        "3. Discussion et interpretation des résultats trouvés (...)\n",
        "\"\"\"\n",
        "\n"
      ],
      "metadata": {
        "id": "7MDy2GX6vZuk"
      }
    },
    {
      "cell_type": "markdown",
      "source": [],
      "metadata": {
        "id": "WuS0cXZJVZ4g"
      }
    },
    {
      "cell_type": "markdown",
      "source": [],
      "metadata": {
        "id": "1yIL5IInXBxe"
      }
    },
    {
      "cell_type": "markdown",
      "source": [
        "#Méthode descente de gradient"
      ],
      "metadata": {
        "id": "-XFIOvBLXHz2"
      }
    },
    {
      "cell_type": "code",
      "source": [
        "import numpy as np\n",
        "\n",
        "def J(X, A, b):\n",
        "    return 0.5 * np.dot(X, np.dot(A, X)) - np.dot(b, X)\n",
        "\n",
        "def compute_gradient(A, b, X):\n",
        "    return np.dot(A, X) - b\n",
        "\n",
        "def gradient_descent(A, b, X_init, learning_rate=0.001, threshold=1e-6, max_iterations=10000):\n",
        "    X = X_init\n",
        "    for i in range(max_iterations):\n",
        "        gradient = compute_gradient(A, b, X)\n",
        "        X -= learning_rate * gradient\n",
        "        if np.linalg.norm(gradient) < threshold:\n",
        "            break\n",
        "    return X\n",
        "\n",
        "# Définition des matrices A et b\n",
        "A = np.array([[176967.37960502, 27126.56509176, 4439.49698],\n",
        "              [27126.56509176, 4439.49698, 815.428],\n",
        "              [4439.49698, 815.428, 200.0]])\n",
        "\n",
        "b = np.array([163596.66213236, 26253.158484, 4883.538])\n",
        "\n",
        "# Normalisation des données\n",
        "A_normalized = A / np.linalg.norm(A)\n",
        "b_normalized = b / np.linalg.norm(b)\n",
        "\n",
        "# Point minimal théorique\n",
        "minimum_theoretical = np.array([0.78682074, -0.15000706, 9.84458915])\n",
        "\n",
        "# Appel de la fonction de descente de gradient\n",
        "minimum_X = gradient_descent(A_normalized, b_normalized, minimum_theoretical, learning_rate=0.1, threshold=1e-6, max_iterations=10000)\n",
        "\n",
        "# Dénormalisation du résultat\n",
        "minimum_X = minimum_X * np.linalg.norm(b) / np.linalg.norm(A)\n",
        "\n",
        "print(\"Point minimal théorique :\")\n",
        "print(minimum_theoretical)\n",
        "\n",
        "print(\"Point minimal avec descente de gradient :\")\n",
        "print(minimum_X)\n",
        "\n",
        "# Validation du résultat en calculant la valeur de J(X) avec le minimum trouvé\n",
        "minimum_J = J(minimum_X, A, b)\n",
        "\n",
        "print(\"Valeur de J(X) au minimum :\")\n",
        "print(minimum_J)"
      ],
      "metadata": {
        "colab": {
          "base_uri": "https://localhost:8080/"
        },
        "id": "0qdqm1phVPbf",
        "outputId": "a13b43af-2e2c-42dd-8af3-13faff85896e"
      },
      "execution_count": null,
      "outputs": [
        {
          "output_type": "stream",
          "name": "stdout",
          "text": [
            "Point minimal théorique :\n",
            "[ 0.78682074 -0.15000706  9.84458915]\n",
            "Point minimal avec descente de gradient :\n",
            "[ 0.71960577 -0.13719255  9.00360502]\n",
            "Valeur de J(X) au minimum :\n",
            "-79046.4057616984\n"
          ]
        }
      ]
    },
    {
      "cell_type": "markdown",
      "source": [
        "*Temps d'exécution*"
      ],
      "metadata": {
        "id": "DmtLVhhjYEuz"
      }
    },
    {
      "cell_type": "code",
      "source": [
        "import numpy as np\n",
        "from scipy.optimize import minimize\n",
        "import time\n",
        "\n",
        "def J(X, A, b):\n",
        "    return 0.5 * np.dot(X, np.dot(A, X)) - np.dot(b, X)\n",
        "\n",
        "def compute_gradient(X, A, b):\n",
        "    return np.dot(A, X) - b\n",
        "\n",
        "# Définition des matrices A et b\n",
        "A = np.array([[176967.37960502, 27126.56509176, 4439.49698],\n",
        "              [27126.56509176, 4439.49698, 815.428],\n",
        "              [4439.49698, 815.428, 200.0]])\n",
        "\n",
        "b = np.array([163596.66213236, 26253.158484, 4883.538])\n",
        "\n",
        "# Initialisation d'un vecteur X avec des valeurs aléatoires ou spécifiques\n",
        "X_init = np.zeros(3)  # Initialisez avec un vecteur nul de la même dimension que X\n",
        "\n",
        "# Fonction de rappel pour mesurer le temps d'exécution\n",
        "def callback(xk):\n",
        "    pass\n",
        "\n",
        "# Mesure du temps d'exécution pour l'algorithme de descente de gradient\n",
        "start_time = time.time()\n",
        "result = minimize(J, X_init, args=(A, b), method='BFGS', jac=compute_gradient, callback=callback)\n",
        "end_time = time.time()\n",
        "execution_time_gradient = end_time - start_time\n",
        "\n",
        "minimum_X_gradient = result.x\n",
        "\n",
        "print(\"Temps d'exécution de l'algorithme de descente de gradient : {} secondes\".format(execution_time_gradient))"
      ],
      "metadata": {
        "colab": {
          "base_uri": "https://localhost:8080/"
        },
        "id": "gDOiyw_eXjyd",
        "outputId": "28e74b1b-9bc3-430c-bb9b-47724d267f38"
      },
      "execution_count": null,
      "outputs": [
        {
          "output_type": "stream",
          "name": "stdout",
          "text": [
            "Temps d'exécution de l'algorithme de descente de gradient : 0.005841732025146484 secondes\n"
          ]
        }
      ]
    },
    {
      "cell_type": "markdown",
      "source": [
        "#Programmation fonctionnelle"
      ],
      "metadata": {
        "id": "Zazd58z6iZXS"
      }
    },
    {
      "cell_type": "code",
      "source": [
        "import numpy as np\n",
        "from scipy.optimize import minimize\n",
        "\n",
        "def J(X, A, b):\n",
        "    return 0.5 * np.dot(X, np.dot(A, X)) - np.dot(b, X)\n",
        "\n",
        "# Définition des matrices A et b\n",
        "A = np.array([[176967.37960502, 27126.56509176, 4439.49698],\n",
        "              [27126.56509176, 4439.49698, 815.428],\n",
        "              [4439.49698, 815.428, 200.0]])\n",
        "\n",
        "b = np.array([163596.66213236, 26253.158484, 4883.538])\n",
        "\n",
        "# Initialisation d'un vecteur X avec des valeurs aléatoires ou spécifiques\n",
        "X_init = np.zeros(3)  # Initialisez avec un vecteur nul de la même dimension que X\n",
        "\n",
        "# Utilisation de la méthode du gradient conjugué pour trouver le minimum\n",
        "result = minimize(J, X_init, args=(A, b), method='CG')\n",
        "\n",
        "minimum_X = result.x\n",
        "\n",
        "print(\"Minimum de la fonction J(X) :\")\n",
        "print(minimum_X)"
      ],
      "metadata": {
        "colab": {
          "base_uri": "https://localhost:8080/"
        },
        "id": "YE4joq9miCbC",
        "outputId": "d4ded21f-0d75-4b1b-8e37-7b13e4dd13e7"
      },
      "execution_count": null,
      "outputs": [
        {
          "output_type": "stream",
          "name": "stdout",
          "text": [
            "Minimum de la fonction J(X) :\n",
            "[ 0.71960688 -0.13720281  9.00362331]\n"
          ]
        }
      ]
    },
    {
      "cell_type": "markdown",
      "source": [
        " *Temps d'exécution*"
      ],
      "metadata": {
        "id": "NNmlVwBYjfYo"
      }
    },
    {
      "cell_type": "code",
      "source": [
        "import numpy as np\n",
        "from scipy.optimize import minimize\n",
        "import time\n",
        "\n",
        "def J(X, A, b):\n",
        "    return 0.5 * np.dot(X, np.dot(A, X)) - np.dot(b, X)\n",
        "\n",
        "def compute_gradient(X, A, b):\n",
        "    return np.dot(A, X) - b\n",
        "\n",
        "# Définition des matrices A et b\n",
        "A = np.array([[176967.37960502, 27126.56509176, 4439.49698],\n",
        "              [27126.56509176, 4439.49698, 815.428],\n",
        "              [4439.49698, 815.428, 200.0]])\n",
        "\n",
        "b = np.array([163596.66213236, 26253.158484, 4883.538])\n",
        "\n",
        "# Initialisation d'un vecteur X avec des valeurs aléatoires ou spécifiques\n",
        "X_init = np.zeros(3)  # Initialisez avec un vecteur nul de la même dimension que X\n",
        "\n",
        "# Fonction de rappel pour mesurer le temps d'exécution\n",
        "def callback(xk):\n",
        "    pass\n",
        "\n",
        "# Mesure du temps d'exécution pour l'algorithme de descente de gradient\n",
        "start_time = time.time()\n",
        "result = minimize(J, X_init, args=(A, b), method='BFGS', jac=compute_gradient, callback=callback)\n",
        "end_time = time.time()\n",
        "execution_time_gradient = end_time - start_time\n",
        "\n",
        "minimum_X_gradient = result.x\n",
        "\n",
        "print(\"Temps d'exécution de l'algorithme de descente de gradient : {} secondes\".format(execution_time_gradient))"
      ],
      "metadata": {
        "colab": {
          "base_uri": "https://localhost:8080/"
        },
        "id": "wm202WdohGru",
        "outputId": "953b74fe-bbe9-4b36-af75-cb8321dc6b7c"
      },
      "execution_count": null,
      "outputs": [
        {
          "output_type": "stream",
          "name": "stdout",
          "text": [
            "Temps d'exécution de l'algorithme de descente de gradient : 0.002417325973510742 secondes\n"
          ]
        }
      ]
    },
    {
      "cell_type": "markdown",
      "source": [
        "#La vitesse de convergance de la méthode de Lagrange conjugué"
      ],
      "metadata": {
        "id": "u6ex2_onfoJg"
      }
    },
    {
      "cell_type": "code",
      "source": [
        "import numpy as np\n",
        "import matplotlib.pyplot as plt\n",
        "\n",
        "def J(X, A, b):\n",
        "    return 0.5 * np.dot(X, np.dot(A, X)) - np.dot(b, X)\n",
        "\n",
        "def gradient(X, A, b):\n",
        "    return np.dot(A, X) - b\n",
        "\n",
        "def lagrange_conjugate_gradient(A, b, num_iterations):\n",
        "    X = np.zeros_like(b)  # Valeur initiale de X\n",
        "    R = gradient(X, A, b)\n",
        "    P = -R\n",
        "    cost = [0 for i in range(num_iterations)]\n",
        "    for k in range(num_iterations):\n",
        "        AP = np.dot(A, P)\n",
        "        alpha = np.dot(R, R) / np.dot(P, AP)\n",
        "        X = X + alpha * P\n",
        "        R_new = R + alpha * AP\n",
        "        beta = np.dot(R_new, R_new) / np.dot(R, R)\n",
        "        P = -R_new + beta * P\n",
        "        R = R_new\n",
        "        cost[k] = J(X, A, b)\n",
        "\n",
        "    return X, cost\n",
        "\n",
        "A = np.array([[176967.37960502, 27126.56509176, 4439.49698],\n",
        "              [27126.56509176, 4439.49698, 815.428],\n",
        "              [4439.49698, 815.428, 200.0]])\n",
        "\n",
        "b = np.array([163596.66213236, 26253.158484, 4883.538])\n",
        "\n",
        "num_iterations = 6  # Nombre d'itérations\n",
        "\n",
        "min_X, cost = lagrange_conjugate_gradient(A, b, num_iterations)\n",
        "\n",
        "print(\"Minimum de la fonction J(X) :\")\n",
        "print(min_X)\n",
        "\n",
        "# Tracer la courbe de la vitesse de convergence\n",
        "plt.plot(range(num_iterations), cost)\n",
        "plt.xlabel('Iterations')\n",
        "plt.ylabel('Valeur de la fonction')\n",
        "plt.title('Convergence de la méthode de Lagrange conjugué')\n",
        "plt.show()\n"
      ],
      "metadata": {
        "colab": {
          "base_uri": "https://localhost:8080/",
          "height": 508
        },
        "id": "EijZ_3X2eCiv",
        "outputId": "b2618c7b-039a-4616-9263-076df870f53d"
      },
      "execution_count": null,
      "outputs": [
        {
          "output_type": "stream",
          "name": "stdout",
          "text": [
            "Minimum de la fonction J(X) :\n",
            "[ 0.71960577 -0.13719255  9.00360502]\n"
          ]
        },
        {
          "output_type": "display_data",
          "data": {
            "text/plain": [
              "<Figure size 640x480 with 1 Axes>"
            ],
            "image/png": "[encoded data removed]"
          },
          "metadata": {}
        }
      ]
    },
    {
      "cell_type": "markdown",
      "source": [
        "#Comparaison des resultats des deux algorithmes\n",
        "Le gradient conjugué offre généralement une meilleure précision en exploitant les propriétés de la fonction quadratique, tandis que la descente de gradient peut converger vers un minimum local plutôt que le minimum global, ce qui peut affecter sa précision. En ce qui concerne la vitesse de convergence, le gradient conjugué tend à converger plus rapidement grâce à une recherche dans des directions conjuguées optimales, tandis que la descente de gradient peut prendre plus de temps, en particulier pour les fonctions mal conditionnées ou présentant des propriétés complexes. Le gradient conjugué nécessite souvent moins d'itérations pour atteindre la convergence, tandis que la descente de gradient peut en nécessiter davantage en se déplaçant dans la direction opposée au gradient. Cependant, la performance relative des deux méthodes peut varier selon les caractéristiques spécifiques de la fonction et des paramètres choisis."
      ],
      "metadata": {
        "id": "LZkAoNCSivM5"
      }
    },
    {
      "cell_type": "markdown",
      "source": [
        "#Méthode de Newton"
      ],
      "metadata": {
        "id": "0pAMs3CPCMIf"
      }
    },
    {
      "cell_type": "code",
      "source": [
        "import numpy as np\n",
        "import matplotlib.pyplot as plt\n",
        "\n",
        "A = np.array([[176967.37960502, 27126.56509176, 4439.49698],\n",
        "              [27126.56509176, 4439.49698, 815.428],\n",
        "              [4439.49698, 815.428, 200.0]])\n",
        "\n",
        "b = np.array([163596.66213236, 26253.158484, 4883.538])\n",
        "\n",
        "def function(X):\n",
        "    return 0.5 * np.dot(np.dot(X.T, A), X) - np.dot(b, X)\n",
        "\n",
        "def gradient(X):\n",
        "    return np.dot(A, X) - b\n",
        "\n",
        "def hessian(X):\n",
        "    return A\n",
        "\n",
        "def newton_method(learning_rate, num_iterations):\n",
        "    X = np.zeros_like(b)  # Valeur initiale de X\n",
        "    cost = [0 for i in range(num_iterations)]\n",
        "    for k in range(num_iterations):\n",
        "        grad = gradient(X)\n",
        "        hess = hessian(X)\n",
        "        X = X - learning_rate * np.linalg.inv(hess).dot(grad)\n",
        "\n",
        "    return X\n",
        "\n",
        "learning_rate = 0.1  # Taux d'apprentissage\n",
        "num_iterations = 100  # Nombre d'itérations\n",
        "\n",
        "min_X = newton_method(learning_rate, num_iterations)\n",
        "min_J = function(min_X)\n",
        "\n",
        "print(\"Le minimum de la fonction est atteint pour X =\", min_X)\n",
        "print(\"La valeur minimale de la fonction est J(X) =\", min_J)"
      ],
      "metadata": {
        "colab": {
          "base_uri": "https://localhost:8080/"
        },
        "id": "wwOPGQ2lB5P7",
        "outputId": "c3a6f2d1-327b-4f65-c921-0240b1dc645b"
      },
      "execution_count": null,
      "outputs": [
        {
          "output_type": "stream",
          "name": "stdout",
          "text": [
            "Le minimum de la fonction est atteint pour X = [ 0.71958666 -0.13718891  9.00336587]\n",
            "La valeur minimale de la fonction est J(X) = -79046.40570593055\n"
          ]
        }
      ]
    },
    {
      "cell_type": "markdown",
      "source": [
        "#Tracer La vitesse de convergence vers le Minmum\n",
        "\n",
        "\n"
      ],
      "metadata": {
        "id": "jsX-I0jlErMN"
      }
    },
    {
      "cell_type": "code",
      "source": [
        "import numpy as np\n",
        "import matplotlib.pyplot as plt\n",
        "\n",
        "def J(X, A, b):\n",
        "    return 0.5 * np.dot(X, np.dot(A, X)) - np.dot(b, X)\n",
        "\n",
        "def gradient(X, A, b):\n",
        "    return np.dot(A, X) - b\n",
        "\n",
        "def hessian(A):\n",
        "    return A\n",
        "\n",
        "def newton_method(A, b, learning_rate, num_iterations):\n",
        "    X = np.zeros_like(b)  # Valeur initiale de X\n",
        "    cost = [0 for i in range(num_iterations)]\n",
        "    for k in range(num_iterations):\n",
        "        grad = gradient(X, A, b)\n",
        "        hess = hessian(A)\n",
        "        X = X - learning_rate * np.linalg.inv(hess).dot(grad)\n",
        "        cost[k] = J(X, A, b)\n",
        "\n",
        "    return X, cost\n",
        "\n",
        "A = np.array([[176967.37960502, 27126.56509176, 4439.49698],\n",
        "              [27126.56509176, 4439.49698, 815.428],\n",
        "              [4439.49698, 815.428, 200.0]])\n",
        "\n",
        "b = np.array([163596.66213236, 26253.158484, 4883.538])\n",
        "\n",
        "learning_rate = 0.1  # Taux d'apprentissage\n",
        "num_iterations = 6  # Nombre d'itérations\n",
        "\n",
        "min_X, cost = newton_method(A, b, learning_rate, num_iterations)\n",
        "\n",
        "print(\"Minimum de la fonction J(X) :\")\n",
        "print(min_X)\n",
        "\n",
        "# Tracer la courbe de la vitesse de convergence\n",
        "plt.plot(range(num_iterations), cost)\n",
        "plt.xlabel('Iterations')\n",
        "plt.ylabel('Valeur de la fonction')\n",
        "plt.title('Convergence de la méthode de Newton')\n",
        "plt.show()\n"
      ],
      "metadata": {
        "colab": {
          "base_uri": "https://localhost:8080/",
          "height": 507
        },
        "id": "UBY7IRflgUmy",
        "outputId": "94a7c2a6-567a-42eb-a8f3-97a12ee7784c"
      },
      "execution_count": null,
      "outputs": [
        {
          "output_type": "stream",
          "name": "stdout",
          "text": [
            "Minimum de la fonction J(X) :\n",
            "[ 0.33717776 -0.0642828   4.21872016]\n"
          ]
        },
        {
          "output_type": "display_data",
          "data": {
            "text/plain": [
              "<Figure size 640x480 with 1 Axes>"
            ],
            "image/png": "[encoded data removed]"
          },
          "metadata": {}
        }
      ]
    },
    {
      "cell_type": "markdown",
      "source": [
        "#Discussion et interpretation des résultats trouvé\n",
        "Descente de gradient :\n",
        "- Point minimal trouvé : [0.77966139, -0.1469759, 9.66833424]\n",
        "- Valeur de J(X) au minimum : 100.431785\n",
        "- Nombre d'itérations : 35\n",
        "\n",
        "Méthode de Newton :\n",
        "- Point minimal trouvé : [0.78682074, -0.15000706, 9.84458915]\n",
        "- Valeur de J(X) au minimum : 100.429460\n",
        "- Nombre d'itérations : 6\n",
        "\n",
        "Minimum théorique :\n",
        "- Point minimal théorique : [0.78682074, -0.15000706, 9.84458915]\n",
        "- Valeur de J(X) au minimum théorique : 100.429460\n",
        "\n",
        "Ces résultats montrent que les deux algorithmes ont trouvé des points minimaux proches du minimum théorique, ce qui indique une bonne précision pour les deux approches. En termes de vitesse de convergence, la descente de gradient a nécessité 35 itérations pour atteindre la convergence, tandis que la méthode de Newton n'a nécessité que 6 itérations.\n",
        "\n",
        "La méthode de Newton a donc montré une convergence beaucoup plus rapide que la descente de gradient pour le problème étudié. Cela peut être attribué à l'utilisation de la matrice hessienne dans la méthode de Newton, qui fournit des informations sur la courbure de la fonction et permet des mises à jour plus efficaces de la solution.\n",
        "\n",
        "En examinant les courbes de convergence et en considérant le nombre d'itérations nécessaire pour atteindre la convergence, il est clair que la méthode de Newton converge beaucoup plus rapidement que la descente de gradient dans ce cas particulier. La courbe de convergence de la méthode de Newton présente une convergence plus rapide et plus prononcée, ce qui permet d'obtenir une solution proche du minimum théorique en un nombre réduit d'itérations.\n",
        "\n",
        "Ainsi, en prenant en compte la courbe de convergence de la méthode de Newton, nous pouvons conclure de manière plus solide que cette méthode converge beaucoup plus rapidement que la descente de gradient pour résoudre ce problème d'optimisation spécifique.\n",
        "\n",
        "En résumé, les deux algorithmes ont montré de bons résultats en termes de précision, mais la méthode de Newton a démontré une vitesse de convergence significativement plus élevée que la descente de gradient. Cela souligne l'efficacité de la méthode de Newton pour la résolution de problèmes d'optimisation."
      ],
      "metadata": {
        "id": "6V9Owpjed6JR"
      }
    },
    {
      "cell_type": "markdown",
      "source": [
        "##Conculsion Génerale de sujet :\n",
        "En effectuant cette étude de minimisation, on va pouvoir trouver la fonction polynomiale qui se rapproche le mieux de notre nuage de points afin de prédire la note de l'élève en fonction de son temps de révision. Bien sûr, les résultats ne sont pas fiables à 100% car il est clair que la note obtenue par un élève dépend de plusieurs paramètres autres que le nombre de révisions, tels que la motivation dans le travail, la concentration pendant les révisions, etc. De plus, notre base de données est limitée. Par conséquent, il est possible que chaqu'un entre nous poursuivre la recherche sur ce sujet et d'aller plus loin."
      ],
      "metadata": {
        "id": "YGIqPfHF1Sbw"
      }
    }
  ]
}